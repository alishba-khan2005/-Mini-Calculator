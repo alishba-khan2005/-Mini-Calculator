{
  "nbformat": 4,
  "nbformat_minor": 0,
  "metadata": {
    "colab": {
      "provenance": []
    },
    "kernelspec": {
      "name": "python3",
      "display_name": "Python 3"
    },
    "language_info": {
      "name": "python"
    }
  },
  "cells": [
    {
      "cell_type": "code",
      "execution_count": 4,
      "metadata": {
        "colab": {
          "base_uri": "https://localhost:8080/"
        },
        "id": "FdkImw6o2XpZ",
        "outputId": "1689dd53-7e9d-4c18-e441-d7cb293c04a8"
      },
      "outputs": [
        {
          "output_type": "stream",
          "name": "stdout",
          "text": [
            "-----------------MINI-CALCULATOR--------------------\n",
            "enter your 1st value:   5\n",
            "enter your 2nd value:   3\n",
            "enter 1 till 47\n",
            "invalid syntax\n"
          ]
        }
      ],
      "source": [
        "print(\"-----------------MINI-CALCULATOR--------------------\")\n",
        "num1=int(input(\"enter your 1st value:   \"))\n",
        "num2=int(input(\"enter your 2nd value:   \"))\n",
        "\n",
        "addition=num1+num2\n",
        "subtraction=num1-num2\n",
        "multiplication=num1*num2\n",
        "division=num1/num2\n",
        "\n",
        "choice=int(input(\"enter 1 till 4\"))\n",
        "\n",
        "if choice==1:\n",
        "   print(addition)\n",
        "if choice==2:\n",
        "   print(subtraction)\n",
        "if choice==3:\n",
        "   print(multiplication)\n",
        "if choice==4:\n",
        "   print(division)\n",
        "\n",
        "else:\n",
        "   print(\"invalid syntax\")"
      ]
    }
  ]
}